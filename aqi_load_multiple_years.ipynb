{
 "cells": [
  {
   "cell_type": "code",
   "execution_count": 16,
   "metadata": {},
   "outputs": [],
   "source": [
    "import pandas as pd\n",
    "from sqlalchemy import create_engine"
   ]
  },
  {
   "cell_type": "code",
   "execution_count": 17,
   "metadata": {},
   "outputs": [
    {
     "name": "stderr",
     "output_type": "stream",
     "text": [
      "/anaconda3/lib/python3.6/site-packages/pymysql/cursors.py:170: Warning: (3719, \"'utf8' is currently an alias for the character set UTF8MB3, but will be an alias for UTF8MB4 in a future release. Please consider using UTF8MB4 in order to be unambiguous.\")\n",
      "  result = self._query(query)\n"
     ]
    }
   ],
   "source": [
    "# For years 2010 to 2018, read csv into dataframe, transform, & load into database\n",
    "\n",
    "\n",
    "for year in range(2010, 2018):\n",
    "    # read csv\n",
    "    file_aqi = \"aqi_data/aqidaily\" + str(year) + \".csv\"\n",
    "    aqi_data_df = pd.read_csv(file_aqi)\n",
    "    \n",
    "    # select first 4 columns & change their names\n",
    "    aqi_data_df = aqi_data_df.iloc[: , 0:4]\n",
    "    aqi_data_df.columns = [\"date\", \"overall_aqi\", \"main\", \"site_name\"]\n",
    "    \n",
    "    # drop unneeded column & add column with year\n",
    "    aqi_data_df = aqi_data_df[[\"date\", \"overall_aqi\", \"site_name\"]]\n",
    "    aqi_data_df['year'] = year\n",
    "    \n",
    "    # load into database\n",
    "    rds_connection_string = \"root:12345678@127.0.0.1/fires\"\n",
    "    engine = create_engine(f'mysql+pymysql://{rds_connection_string}')\n",
    "    aqi_data_df.to_sql(name=\"aqi_data\", con=engine, if_exists=\"append\", index=False)\n",
    "    "
   ]
  },
  {
   "cell_type": "code",
   "execution_count": null,
   "metadata": {},
   "outputs": [],
   "source": []
  }
 ],
 "metadata": {
  "kernelspec": {
   "display_name": "Python 3",
   "language": "python",
   "name": "python3"
  },
  "language_info": {
   "codemirror_mode": {
    "name": "ipython",
    "version": 3
   },
   "file_extension": ".py",
   "mimetype": "text/x-python",
   "name": "python",
   "nbconvert_exporter": "python",
   "pygments_lexer": "ipython3",
   "version": "3.6.5"
  }
 },
 "nbformat": 4,
 "nbformat_minor": 2
}
