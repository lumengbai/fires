{
 "cells": [
  {
   "cell_type": "code",
   "execution_count": 17,
   "metadata": {},
   "outputs": [],
   "source": [
    "import pandas as pd\n",
    "from sqlalchemy import create_engine"
   ]
  },
  {
   "cell_type": "markdown",
   "metadata": {},
   "source": [
    "### Extract CSVs into DataFrames"
   ]
  },
  {
   "cell_type": "code",
   "execution_count": 18,
   "metadata": {
    "scrolled": true
   },
   "outputs": [
    {
     "data": {
      "text/html": [
       "<div>\n",
       "<style scoped>\n",
       "    .dataframe tbody tr th:only-of-type {\n",
       "        vertical-align: middle;\n",
       "    }\n",
       "\n",
       "    .dataframe tbody tr th {\n",
       "        vertical-align: top;\n",
       "    }\n",
       "\n",
       "    .dataframe thead th {\n",
       "        text-align: right;\n",
       "    }\n",
       "</style>\n",
       "<table border=\"1\" class=\"dataframe\">\n",
       "  <thead>\n",
       "    <tr style=\"text-align: right;\">\n",
       "      <th></th>\n",
       "      <th>Date</th>\n",
       "      <th>Overall AQI Value</th>\n",
       "      <th>Main Pollutant</th>\n",
       "      <th>Site Name (of Overall AQI)</th>\n",
       "      <th>Site ID (of Overall AQI)</th>\n",
       "      <th>Source (of Overall AQI)</th>\n",
       "      <th>CO</th>\n",
       "      <th>Ozone</th>\n",
       "      <th>SO2</th>\n",
       "      <th>PM10</th>\n",
       "      <th>PM25</th>\n",
       "      <th>NO2</th>\n",
       "    </tr>\n",
       "  </thead>\n",
       "  <tbody>\n",
       "    <tr>\n",
       "      <th>0</th>\n",
       "      <td>01/01/2018</td>\n",
       "      <td>87</td>\n",
       "      <td>PM2.5</td>\n",
       "      <td>Oakland West</td>\n",
       "      <td>06-001-0011</td>\n",
       "      <td>AQS</td>\n",
       "      <td>15</td>\n",
       "      <td>34</td>\n",
       "      <td>3</td>\n",
       "      <td>.</td>\n",
       "      <td>87</td>\n",
       "      <td>41</td>\n",
       "    </tr>\n",
       "    <tr>\n",
       "      <th>1</th>\n",
       "      <td>01/02/2018</td>\n",
       "      <td>95</td>\n",
       "      <td>PM2.5</td>\n",
       "      <td>Oakland West</td>\n",
       "      <td>06-001-0011</td>\n",
       "      <td>AQS</td>\n",
       "      <td>22</td>\n",
       "      <td>38</td>\n",
       "      <td>4</td>\n",
       "      <td>38</td>\n",
       "      <td>95</td>\n",
       "      <td>45</td>\n",
       "    </tr>\n",
       "    <tr>\n",
       "      <th>2</th>\n",
       "      <td>01/03/2018</td>\n",
       "      <td>142</td>\n",
       "      <td>PM2.5</td>\n",
       "      <td>Concord</td>\n",
       "      <td>06-013-0002</td>\n",
       "      <td>AQS</td>\n",
       "      <td>17</td>\n",
       "      <td>36</td>\n",
       "      <td>4</td>\n",
       "      <td>.</td>\n",
       "      <td>142</td>\n",
       "      <td>46</td>\n",
       "    </tr>\n",
       "    <tr>\n",
       "      <th>3</th>\n",
       "      <td>01/04/2018</td>\n",
       "      <td>145</td>\n",
       "      <td>PM2.5</td>\n",
       "      <td>Concord</td>\n",
       "      <td>06-013-0002</td>\n",
       "      <td>AQS</td>\n",
       "      <td>16</td>\n",
       "      <td>26</td>\n",
       "      <td>4</td>\n",
       "      <td>.</td>\n",
       "      <td>145</td>\n",
       "      <td>34</td>\n",
       "    </tr>\n",
       "    <tr>\n",
       "      <th>4</th>\n",
       "      <td>01/05/2018</td>\n",
       "      <td>58</td>\n",
       "      <td>PM2.5</td>\n",
       "      <td>Concord</td>\n",
       "      <td>06-013-0002</td>\n",
       "      <td>AQS</td>\n",
       "      <td>10</td>\n",
       "      <td>29</td>\n",
       "      <td>4</td>\n",
       "      <td>.</td>\n",
       "      <td>58</td>\n",
       "      <td>32</td>\n",
       "    </tr>\n",
       "  </tbody>\n",
       "</table>\n",
       "</div>"
      ],
      "text/plain": [
       "         Date  Overall AQI Value Main Pollutant Site Name (of Overall AQI)  \\\n",
       "0  01/01/2018                 87          PM2.5               Oakland West   \n",
       "1  01/02/2018                 95          PM2.5               Oakland West   \n",
       "2  01/03/2018                142          PM2.5                    Concord   \n",
       "3  01/04/2018                145          PM2.5                    Concord   \n",
       "4  01/05/2018                 58          PM2.5                    Concord   \n",
       "\n",
       "  Site ID (of Overall AQI) Source (of Overall AQI)  CO  Ozone SO2 PM10  PM25  \\\n",
       "0              06-001-0011                     AQS  15     34   3    .    87   \n",
       "1              06-001-0011                     AQS  22     38   4   38    95   \n",
       "2              06-013-0002                     AQS  17     36   4    .   142   \n",
       "3              06-013-0002                     AQS  16     26   4    .   145   \n",
       "4              06-013-0002                     AQS  10     29   4    .    58   \n",
       "\n",
       "  NO2  \n",
       "0  41  \n",
       "1  45  \n",
       "2  46  \n",
       "3  34  \n",
       "4  32  "
      ]
     },
     "execution_count": 18,
     "metadata": {},
     "output_type": "execute_result"
    }
   ],
   "source": [
    "file_aqi = \"aqi_data/aqidaily2018.csv\"\n",
    "aqi_data_df = pd.read_csv(file_aqi)\n",
    "aqi_data_df.head()\n"
   ]
  },
  {
   "cell_type": "code",
   "execution_count": 19,
   "metadata": {},
   "outputs": [],
   "source": [
    "aqi_data_df = aqi_data_df.iloc[: , 0:4]\n"
   ]
  },
  {
   "cell_type": "code",
   "execution_count": 20,
   "metadata": {},
   "outputs": [],
   "source": [
    "aqi_data_df.columns = [\"date\", \"overall_aqi\", \"main\", \"site_name\"]\n"
   ]
  },
  {
   "cell_type": "code",
   "execution_count": 21,
   "metadata": {},
   "outputs": [],
   "source": [
    "aqi_data_df = aqi_data_df[[\"date\", \"overall_aqi\", \"site_name\"]]"
   ]
  },
  {
   "cell_type": "code",
   "execution_count": 22,
   "metadata": {},
   "outputs": [
    {
     "data": {
      "text/html": [
       "<div>\n",
       "<style scoped>\n",
       "    .dataframe tbody tr th:only-of-type {\n",
       "        vertical-align: middle;\n",
       "    }\n",
       "\n",
       "    .dataframe tbody tr th {\n",
       "        vertical-align: top;\n",
       "    }\n",
       "\n",
       "    .dataframe thead th {\n",
       "        text-align: right;\n",
       "    }\n",
       "</style>\n",
       "<table border=\"1\" class=\"dataframe\">\n",
       "  <thead>\n",
       "    <tr style=\"text-align: right;\">\n",
       "      <th></th>\n",
       "      <th>date</th>\n",
       "      <th>overall_aqi</th>\n",
       "      <th>site_name</th>\n",
       "    </tr>\n",
       "  </thead>\n",
       "  <tbody>\n",
       "    <tr>\n",
       "      <th>0</th>\n",
       "      <td>01/01/2018</td>\n",
       "      <td>87</td>\n",
       "      <td>Oakland West</td>\n",
       "    </tr>\n",
       "    <tr>\n",
       "      <th>1</th>\n",
       "      <td>01/02/2018</td>\n",
       "      <td>95</td>\n",
       "      <td>Oakland West</td>\n",
       "    </tr>\n",
       "    <tr>\n",
       "      <th>2</th>\n",
       "      <td>01/03/2018</td>\n",
       "      <td>142</td>\n",
       "      <td>Concord</td>\n",
       "    </tr>\n",
       "    <tr>\n",
       "      <th>3</th>\n",
       "      <td>01/04/2018</td>\n",
       "      <td>145</td>\n",
       "      <td>Concord</td>\n",
       "    </tr>\n",
       "    <tr>\n",
       "      <th>4</th>\n",
       "      <td>01/05/2018</td>\n",
       "      <td>58</td>\n",
       "      <td>Concord</td>\n",
       "    </tr>\n",
       "  </tbody>\n",
       "</table>\n",
       "</div>"
      ],
      "text/plain": [
       "         date  overall_aqi     site_name\n",
       "0  01/01/2018           87  Oakland West\n",
       "1  01/02/2018           95  Oakland West\n",
       "2  01/03/2018          142       Concord\n",
       "3  01/04/2018          145       Concord\n",
       "4  01/05/2018           58       Concord"
      ]
     },
     "execution_count": 22,
     "metadata": {},
     "output_type": "execute_result"
    }
   ],
   "source": [
    "aqi_data_df.head()"
   ]
  },
  {
   "cell_type": "code",
   "execution_count": 23,
   "metadata": {},
   "outputs": [],
   "source": [
    "aqi_data_df['year']=2018"
   ]
  },
  {
   "cell_type": "code",
   "execution_count": 24,
   "metadata": {},
   "outputs": [
    {
     "data": {
      "text/html": [
       "<div>\n",
       "<style scoped>\n",
       "    .dataframe tbody tr th:only-of-type {\n",
       "        vertical-align: middle;\n",
       "    }\n",
       "\n",
       "    .dataframe tbody tr th {\n",
       "        vertical-align: top;\n",
       "    }\n",
       "\n",
       "    .dataframe thead th {\n",
       "        text-align: right;\n",
       "    }\n",
       "</style>\n",
       "<table border=\"1\" class=\"dataframe\">\n",
       "  <thead>\n",
       "    <tr style=\"text-align: right;\">\n",
       "      <th></th>\n",
       "      <th>date</th>\n",
       "      <th>overall_aqi</th>\n",
       "      <th>site_name</th>\n",
       "      <th>year</th>\n",
       "    </tr>\n",
       "  </thead>\n",
       "  <tbody>\n",
       "    <tr>\n",
       "      <th>0</th>\n",
       "      <td>01/01/2018</td>\n",
       "      <td>87</td>\n",
       "      <td>Oakland West</td>\n",
       "      <td>2018</td>\n",
       "    </tr>\n",
       "    <tr>\n",
       "      <th>1</th>\n",
       "      <td>01/02/2018</td>\n",
       "      <td>95</td>\n",
       "      <td>Oakland West</td>\n",
       "      <td>2018</td>\n",
       "    </tr>\n",
       "    <tr>\n",
       "      <th>2</th>\n",
       "      <td>01/03/2018</td>\n",
       "      <td>142</td>\n",
       "      <td>Concord</td>\n",
       "      <td>2018</td>\n",
       "    </tr>\n",
       "    <tr>\n",
       "      <th>3</th>\n",
       "      <td>01/04/2018</td>\n",
       "      <td>145</td>\n",
       "      <td>Concord</td>\n",
       "      <td>2018</td>\n",
       "    </tr>\n",
       "    <tr>\n",
       "      <th>4</th>\n",
       "      <td>01/05/2018</td>\n",
       "      <td>58</td>\n",
       "      <td>Concord</td>\n",
       "      <td>2018</td>\n",
       "    </tr>\n",
       "  </tbody>\n",
       "</table>\n",
       "</div>"
      ],
      "text/plain": [
       "         date  overall_aqi     site_name  year\n",
       "0  01/01/2018           87  Oakland West  2018\n",
       "1  01/02/2018           95  Oakland West  2018\n",
       "2  01/03/2018          142       Concord  2018\n",
       "3  01/04/2018          145       Concord  2018\n",
       "4  01/05/2018           58       Concord  2018"
      ]
     },
     "execution_count": 24,
     "metadata": {},
     "output_type": "execute_result"
    }
   ],
   "source": [
    "aqi_data_df.head()"
   ]
  },
  {
   "cell_type": "markdown",
   "metadata": {},
   "source": [
    "### Create database connection"
   ]
  },
  {
   "cell_type": "code",
   "execution_count": 25,
   "metadata": {},
   "outputs": [],
   "source": [
    "rds_connection_string = \"root:12345678@127.0.0.1/fires\"\n",
    "engine = create_engine(f'mysql+pymysql://{rds_connection_string}')\n"
   ]
  },
  {
   "cell_type": "code",
   "execution_count": 27,
   "metadata": {},
   "outputs": [
    {
     "data": {
      "text/plain": [
       "['aqi_data']"
      ]
     },
     "execution_count": 27,
     "metadata": {},
     "output_type": "execute_result"
    }
   ],
   "source": [
    "# Confirm tables\n",
    "engine.table_names()"
   ]
  },
  {
   "cell_type": "markdown",
   "metadata": {},
   "source": [
    "### Load DataFrames into database"
   ]
  },
  {
   "cell_type": "code",
   "execution_count": 28,
   "metadata": {},
   "outputs": [],
   "source": [
    "aqi_data_df.to_sql(name=\"aqi_data\", con=engine, if_exists=\"append\")"
   ]
  },
  {
   "cell_type": "code",
   "execution_count": null,
   "metadata": {},
   "outputs": [],
   "source": []
  },
  {
   "cell_type": "code",
   "execution_count": null,
   "metadata": {},
   "outputs": [],
   "source": []
  }
 ],
 "metadata": {
  "kernelspec": {
   "display_name": "Python 3",
   "language": "python",
   "name": "python3"
  },
  "language_info": {
   "codemirror_mode": {
    "name": "ipython",
    "version": 3
   },
   "file_extension": ".py",
   "mimetype": "text/x-python",
   "name": "python",
   "nbconvert_exporter": "python",
   "pygments_lexer": "ipython3",
   "version": "3.6.5"
  }
 },
 "nbformat": 4,
 "nbformat_minor": 2
}
